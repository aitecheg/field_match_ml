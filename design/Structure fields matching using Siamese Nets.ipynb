{
 "cells": [
  {
   "attachments": {},
   "cell_type": "markdown",
   "metadata": {},
   "source": [
    "# Problem\n",
    "We have as input many medical claim forms, that include fields, and their values are filled.\n",
    "\n",
    "The value could be handwriting, checkbox, machine printed,..etc.\n",
    "\n",
    "![UNUM_form.png](img/UNUM_form.png)\n",
    "\n",
    "We want to parse those PDFs, OCR them (using tesseract and custom handwriting recognition models), then produce a structure (JSON) output, saying which field name is assigned which field value."
   ]
  },
  {
   "attachments": {},
   "cell_type": "markdown",
   "metadata": {},
   "source": [
    "## Pipeline\n",
    "The full pipeline is shown below. After a document is OCRed, it is assumed that fields values and names are detected and classified (as name or value) prior to the matching step.\n",
    "\n",
    "The matching block takes an unordered nor associated list of names and values, together with their text and bbox coordinates (see the Data section). It should produce a list of tuples, with the associated name to its value in JSON format.\n",
    "\n",
    "\n",
    "![fields_pipeline.png](img/fields_pipeline.png)"
   ]
  },
  {
   "attachments": {},
   "cell_type": "markdown",
   "metadata": {},
   "source": [
    "# Data\n",
    "We have 26 docs, with around 450 pairs, annotated as follows:\n",
    "![UNUM_form.png](img/UNUM_form.png)"
   ]
  },
  {
   "cell_type": "markdown",
   "metadata": {},
   "source": [
    "```\n",
    "field_area 1\n",
    "{\n",
    "               bbox:{x,y,l,w}\n",
    "               field_name\n",
    "{\n",
    "                              bbox:{x,y,l,w}\n",
    "name: “Last Name”\n",
    "               }\n",
    "               field_value\n",
    "{\n",
    "                              bbox:{x,y,l,w}\n",
    "value: “CLAUSEN”\n",
    "               }\n",
    "\n",
    "}\n",
    "\n",
    "field_area 2\n",
    "{\n",
    "               bbox:{x,y,l,w}\n",
    "               field_name\n",
    "{\n",
    "                              bbox:{x,y,l,w}\n",
    "name: “First Name”\n",
    "               }\n",
    "               field_value\n",
    "{\n",
    "                              bbox:{x,y,l,w}\n",
    "value: “JOSEPH”\n",
    "               }\n",
    "\n",
    "}\n",
    "```\n"
   ]
  },
  {
   "cell_type": "markdown",
   "metadata": {},
   "source": [
    "## Synthetic data\n",
    "We don't have enough data, as the amount of needed data should be around 450K! (As in Quora dataset).\n",
    "\n",
    "So we have to use synthetic data.\n",
    "Based on manual listing of known field names in the forms, we create a list of public datasets (from https://toolbox.google.com/datasetsearch)\n",
    "\n",
    "Here's the identified list:\n",
    "\n",
    "https://docs.google.com/spreadsheets/d/1FG0TLpaGOdaOsCXZ16_aVgf3v_BJk44nzetK0iG7-fI/edit#gid=0"
   ]
  },
  {
   "attachments": {},
   "cell_type": "markdown",
   "metadata": {},
   "source": [
    "# Field Matching Approach\n",
    "\n",
    "The matching approach take the whole document fields names and value in JSON format `{{Name_i}_N, {Value_i}_N}`. \n",
    "\n",
    "It starts by confining the search area of candidate values to their names, by taking the physical neighborhood (2D circle) around the field name, and list all K-Neigherst Neighbor values to it. \n",
    "\n",
    "Then for each candidate, we should have a score function to get an assignemnt score.\n",
    "\n",
    "Finally, an association technique is used to make the final assignment and produce the final list of associated tuples:\n",
    "`{(Name_i, Value_i)}_N`\n",
    "\n",
    "![fields_match_ml_pipeline.png](img/fields_match_ml_pipeline.png)"
   ]
  },
  {
   "cell_type": "markdown",
   "metadata": {},
   "source": [
    "# Association techniques\n",
    "\n",
    "The approach depends on a loop on fields names and candidate field values, given that the classificiation and detection of names and value texts is already provided.\n",
    "\n",
    "To identify the candidate values to names, we can search in some neighborhood around the name, and list all candidate values."
   ]
  },
  {
   "cell_type": "markdown",
   "metadata": {},
   "source": [
    "## Greedy\n",
    "Once we identify the candidates values, we can run the Siamese similarity to give the association scores.\n",
    "\n",
    "Assignment is then immediately done based on the highest score."
   ]
  },
  {
   "cell_type": "markdown",
   "metadata": {},
   "source": [
    "## Auction\n",
    "\n",
    "Another option is to defer the assignment to a later stage. Instead of immediate assignment, we wait until other field names express their need to associate to different values in the area.\n",
    "\n",
    "Based on that, we build a 2D score_matrix, and make an \"auction\" between different assignments.\n",
    "We can use the Hungarian algo for that.\n",
    "\n",
    "Details are here:\n",
    "https://en.wikipedia.org/wiki/Auction_algorithm\n",
    "\n"
   ]
  },
  {
   "cell_type": "markdown",
   "metadata": {},
   "source": [
    "___We will start with the greedy assignment for the moment__"
   ]
  },
  {
   "attachments": {},
   "cell_type": "markdown",
   "metadata": {},
   "source": [
    "# Matching score technique\n",
    "___Simaese network approach___\n",
    "Inspired by the work [here](https://github.com/dhwajraj/deep-siamese-text-similarity), we want to use Siamese approach for text matching. Later on, we extent the approach to image matching, and fusion between image and text as well:\n",
    "\n",
    "![siames_text.png](img/siames_text.png)"
   ]
  },
  {
   "attachments": {},
   "cell_type": "markdown",
   "metadata": {},
   "source": [
    "## Baseline 1: Text similarity \n",
    "\n",
    "![baseline_text.png](img/baseline_text.png)"
   ]
  },
  {
   "attachments": {},
   "cell_type": "markdown",
   "metadata": {},
   "source": [
    "## Baseline 2: Image similarity \n",
    "![baseline_img.png](img/baseline_img.png)"
   ]
  },
  {
   "attachments": {},
   "cell_type": "markdown",
   "metadata": {},
   "source": [
    "## Baseline 3: Fusion similarity \n",
    "![baseline_fusion.png](img/baseline_fusion.png)\n"
   ]
  },
  {
   "cell_type": "markdown",
   "metadata": {},
   "source": [
    "## Basline Results"
   ]
  },
  {
   "cell_type": "raw",
   "metadata": {},
   "source": [
    "\n",
    "The first table shows the GT (field | actual value)\n",
    "The next rows shows the top five predictions, you can consider the final prediction as the first one (highest prob).\n",
    "The prediction score is the model confidence. \n",
    "Results look really good. Now I will re-run the 400K training after the bug fix.\n",
    "\n",
    "+---------------------+--------------+\n",
    "|        field        | actual value |\n",
    "+---------------------+--------------+\n",
    "| Insured's Signature |     'S'      |\n",
    "+---------------------+--------------+\n",
    "+--------------------+------------------+\n",
    "|     prediction     | prediction score |\n",
    "+--------------------+------------------+\n",
    "|        'S'         |     0.617753     |\n",
    "| CLAUSEN, JOSEPH N. |     0.195696     |\n",
    "|    617-54-1889     |     0.178647     |\n",
    "|      HUSBAND       |     0.175757     |\n",
    "|      03-12-18      |    0.0735222     |\n",
    "+--------------------+------------------+\n",
    "+-------------+--------------+\n",
    "|    field    | actual value |\n",
    "+-------------+--------------+\n",
    "| Date Signed |   03-12-18   |\n",
    "+-------------+--------------+\n",
    "+--------------------+------------------+\n",
    "|     prediction     | prediction score |\n",
    "+--------------------+------------------+\n",
    "|      03-12-18      |     0.773285     |\n",
    "|    617-54-1889     |     0.433084     |\n",
    "|      HUSBAND       |     0.14218      |\n",
    "|        'S'         |     0.129081     |\n",
    "| CLAUSEN, JOSEPH N. |    0.0444867     |\n",
    "+--------------------+------------------+\n",
    "\n",
    "+--------------+--------------------+\n",
    "|    field     |    actual value    |\n",
    "+--------------+--------------------+\n",
    "| Printed Name | CLAUSEN, JOSEPH N. |\n",
    "+--------------+--------------------+\n",
    "+--------------------+------------------+\n",
    "|     prediction     | prediction score |\n",
    "+--------------------+------------------+\n",
    "| CLAUSEN, JOSEPH N. |     0.698781     |\n",
    "|      HUSBAND       |     0.192541     |\n",
    "|        'S'         |     0.133087     |\n",
    "|    617-54-1889     |    0.0496681     |\n",
    "|      03-12-18      |    0.0451945     |\n",
    "+--------------------+------------------+\n",
    "\n",
    "+------------------------+--------------+\n",
    "|         field          | actual value |\n",
    "+------------------------+--------------+\n",
    "| Social Security Number | 617-54-1889  |\n",
    "+------------------------+--------------+\n",
    "+--------------------+------------------+\n",
    "|     prediction     | prediction score |\n",
    "+--------------------+------------------+\n",
    "|    617-54-1889     |     0.740387     |\n",
    "|        'S'         |     0.307187     |\n",
    "|      03-12-18      |     0.302355     |\n",
    "|      HUSBAND       |     0.135262     |\n",
    "| CLAUSEN, JOSEPH N. |    0.0564043     |\n",
    "+--------------------+------------------+\n",
    "\n",
    "+--------------------------------------+--------------+\n",
    "|                field                 | actual value |\n",
    "+--------------------------------------+--------------+\n",
    "| I signed on behalf of the Insured as |   HUSBAND    |\n",
    "+--------------------------------------+--------------+\n",
    "+--------------------+------------------+\n",
    "|     prediction     | prediction score |\n",
    "+--------------------+------------------+\n",
    "|      HUSBAND       |     0.701798     |\n",
    "|        'S'         |     0.269518     |\n",
    "|      03-12-18      |     0.229723     |\n",
    "|    617-54-1889     |     0.194575     |\n",
    "| CLAUSEN, JOSEPH N. |     0.140363     |\n",
    "+--------------------+------------------+\n",
    " \n",
    "[[9522  377]\n",
    " [  73 9978]]\n",
    "recall 0.99273704109\n",
    "precision 0.963592467407"
   ]
  },
  {
   "cell_type": "markdown",
   "metadata": {},
   "source": [
    "## Issues\n",
    "1. Embeddings are done at word level.\n",
    "__So far the tests are done on clean annotated data.__\n",
    "Since the OCR output is expected to be noisy, we cannot expect known words to FastText. So we'll have a lot of OOV.\n",
    "\n",
    "___Proposed solution___\n",
    "Use char level embeddings.\n",
    "\n",
    "2. The model sometimes make silly mistakes.\n",
    "For example, sometimes, it assigns a \"Telephone\" field to a a text value.\n",
    "\n",
    "___Proposed solution___\n",
    "Integrate text classification from NER.\n",
    "\n",
    "3. The model does not take advantage of the relative positions between fields and values.\n",
    "\n",
    "___Proposed solution___\n",
    "Add L1 loss on the bbox centers coordinates of the name and field bbox."
   ]
  },
  {
   "attachments": {},
   "cell_type": "markdown",
   "metadata": {},
   "source": [
    "## Char level Embeddings\n",
    "__ELMO__\n",
    "\n",
    "![Char ELMO.png](img/Char ELMO.png)"
   ]
  },
  {
   "attachments": {},
   "cell_type": "markdown",
   "metadata": {},
   "source": [
    "## Adding NER\n",
    "Use spaCy https://spacy.io/usage/linguistic-features#section-named-entities\n",
    "![NER.png](img/NER.png)"
   ]
  },
  {
   "attachments": {},
   "cell_type": "markdown",
   "metadata": {},
   "source": [
    "## Adding location clues\n",
    "![bbox_loc.png](img/bbox_loc.png)"
   ]
  }
 ],
 "metadata": {
  "kernelspec": {
   "display_name": "Python 3",
   "language": "python",
   "name": "python3"
  },
  "language_info": {
   "codemirror_mode": {
    "name": "ipython",
    "version": 3
   },
   "file_extension": ".py",
   "mimetype": "text/x-python",
   "name": "python",
   "nbconvert_exporter": "python",
   "pygments_lexer": "ipython3",
   "version": "3.6.5"
  }
 },
 "nbformat": 4,
 "nbformat_minor": 2
}
