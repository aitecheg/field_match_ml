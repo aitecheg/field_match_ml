{
 "cells": [
  {
   "cell_type": "code",
   "execution_count": null,
   "metadata": {},
   "outputs": [],
   "source": [
    "# open a jupyter terminal and run this to view with tensorboard while training\n",
    "tensorboard --logdir=\"/home/elsallab/Work/cod/siamese_text\""
   ]
  },
  {
   "cell_type": "code",
   "execution_count": null,
   "metadata": {},
   "outputs": [],
   "source": [
    "# keep in mind most of the paths in this code are absolute /home/elsallab..."
   ]
  },
  {
   "cell_type": "code",
   "execution_count": null,
   "metadata": {},
   "outputs": [],
   "source": [
    "# use kpython3 instead of python3 it's my version with everything installed"
   ]
  },
  {
   "cell_type": "code",
   "execution_count": null,
   "metadata": {},
   "outputs": [],
   "source": [
    "# this will generate .pkl data of the csv files we are given\n",
    "!kpython3 preprocess.py --help\n",
    "\n",
    "# ex. preprocess our data\n",
    "#!kpython3 preprocess.py 0 \n",
    "\n",
    "# ex. preprocess quora Question-pairs\n",
    "#!kpython3 preprocess.py 1 "
   ]
  },
  {
   "cell_type": "code",
   "execution_count": null,
   "metadata": {},
   "outputs": [],
   "source": [
    "# training from scratch will remove older tensorboard summaries !!!!\n",
    "###################################################################\n",
    "# this trains the network and flushes tensorboard summaries\n",
    "!kpython3 train.py --help\n",
    "\n",
    "# ex. to train elmo model on our data resuming at epoch 12 with learning rate .00005\n",
    "#!kpython3 train.py 1 0 1 12 .00005 > elmo.txt 2> elmo.txt \n",
    "\n",
    "# ex. to train fasttext model on quora data from scratch with learning rate .001\n",
    "#!kpython3 train.py 0 1 0 0 .001 > my_fast.txt 2> my_fast.txt"
   ]
  },
  {
   "cell_type": "code",
   "execution_count": null,
   "metadata": {},
   "outputs": [],
   "source": [
    "# demo for humans.. for ml field matching\n",
    "\n",
    "!kpython3 demo.py --help\n",
    "\n",
    "# ex. demo on the \"synthesized noisy demo data.csv\" using our elmo model\n",
    "#!kpython3 demo.py 1 \"synthesized noisy demo data\" # elmo with this file"
   ]
  },
  {
   "cell_type": "code",
   "execution_count": null,
   "metadata": {},
   "outputs": [],
   "source": [
    "!kpython3 evaluate.py --help\n",
    "\n",
    "# ex. evaluate elmo model on our data\n",
    "#!kpython3 evaluate.py 1 0"
   ]
  },
  {
   "cell_type": "code",
   "execution_count": null,
   "metadata": {},
   "outputs": [],
   "source": [
    "# make submission for kaggle quora question pairs\n",
    "!kpython3 make_submission.py --help\n",
    "\n",
    "# ex. make submission.csv using fasttext model \n",
    "#!kpython3 make_submission.py 0"
   ]
  },
  {
   "cell_type": "code",
   "execution_count": null,
   "metadata": {},
   "outputs": [],
   "source": [
    "# util.py is a shared module between all of those scripts \n",
    "# deploy_model.py is the script used for AWS endpoints (currently deployed as field-match-ml-2019-01-20)"
   ]
  }
 ],
 "metadata": {
  "kernelspec": {
   "display_name": "Python 3",
   "language": "python",
   "name": "python3"
  },
  "language_info": {
   "codemirror_mode": {
    "name": "ipython",
    "version": 3
   },
   "file_extension": ".py",
   "mimetype": "text/x-python",
   "name": "python",
   "nbconvert_exporter": "python",
   "pygments_lexer": "ipython3",
   "version": "3.6.8"
  }
 },
 "nbformat": 4,
 "nbformat_minor": 2
}
